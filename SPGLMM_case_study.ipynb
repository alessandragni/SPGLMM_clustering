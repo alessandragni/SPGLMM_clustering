{
 "cells": [
  {
   "cell_type": "code",
   "execution_count": null,
   "metadata": {},
   "outputs": [],
   "source": [
    "import pandas as pd\n",
    "from sklearn import preprocessing\n",
    "import numpy as np\n",
    "from collections import defaultdict\n",
    "import os\n",
    "import pickle\n",
    "import scipy.stats as st\n",
    "\n",
    "from itertools import combinations\n",
    "from scipy.stats import chi2\n",
    "\n",
    "from code.algorithm_alpha import algorithm_alpha\n",
    "from code.algorithm_t import algorithm_t\n",
    "from scipy.special import factorial\n",
    "\n",
    "sim = False"
   ]
  },
  {
   "cell_type": "code",
   "execution_count": null,
   "metadata": {},
   "outputs": [],
   "source": [
    "df = pd.read_csv('data/df_level2.csv')\n",
    "df"
   ]
  },
  {
   "cell_type": "code",
   "execution_count": null,
   "metadata": {},
   "outputs": [],
   "source": [
    "df['STRATIO_scaled'] = preprocessing.scale(df.STRATIO)\n",
    "df['SCHSIZE_scaled'] = preprocessing.scale(df.SCHSIZE)\n",
    "df['mean_ESCS_std_scaled'] = preprocessing.scale(df.mean_ESCS_std)"
   ]
  },
  {
   "cell_type": "code",
   "execution_count": null,
   "metadata": {},
   "outputs": [],
   "source": [
    "#df.CNT.unique()\n",
    "df.groupby('CNT').count().reset_index()['CNT']\n",
    "#df['Y_MATH'].hist()"
   ]
  },
  {
   "cell_type": "code",
   "execution_count": null,
   "metadata": {},
   "outputs": [],
   "source": [
    "ran_var = False\n",
    "ran_int = True\n",
    "n_fix = 2\n",
    "tol = 0.005  # set as 0.01, 0.05 or 0.10 if algorithm_alpha is used; \n",
    "            # otherwise use algorithm_t and tune the tolerance tol\n",
    "model = 'P' # 'B' for Bernoulli and 'P' for Poisson\n",
    "\n",
    "variab = 'SE'"
   ]
  },
  {
   "cell_type": "code",
   "execution_count": null,
   "metadata": {},
   "outputs": [],
   "source": [
    "N = df.CNT.nunique()\n",
    "\n",
    "lengths = np.array(df.groupby('CNT').count().reset_index().iloc[:,1])\n",
    "\n",
    "if model == 'B':\n",
    "    y = list(df.groupby('CNT')['Y_BIN_MATH'].apply(np.array).values)\n",
    "elif model == 'P':\n",
    "    y = list(df.groupby('CNT')['Y_MATH'].apply(np.array).values)\n",
    "\n",
    "fix = defaultdict(list)\n",
    "\n",
    "if variab == \"SE\":\n",
    "    fix[0] = df.groupby('CNT')['SCHSIZE_scaled'].apply(np.array).values.tolist() #S\n",
    "    fix[1] = df.groupby('CNT')['mean_ESCS_std_scaled'].apply(np.array).values.tolist() #E\n",
    "elif variab == \"S\":\n",
    "    fix[0] = df.groupby('CNT')['SCHSIZE_scaled'].apply(np.array).values.tolist() #S\n",
    "elif variab == \"E\":\n",
    "    fix[0] = df.groupby('CNT')['mean_ESCS_std_scaled'].apply(np.array).values.tolist() #E"
   ]
  },
  {
   "cell_type": "code",
   "execution_count": null,
   "metadata": {},
   "outputs": [],
   "source": [
    "# with algorithm_alpha\n",
    "\n",
    "knots, par, W, hess_ran, hess_fix = algorithm_alpha(ran_var, ran_int, n_fix, sim, tol, model, fix, lengths, y, N, t=None)"
   ]
  },
  {
   "cell_type": "code",
   "execution_count": null,
   "metadata": {},
   "outputs": [],
   "source": [
    "# with algorithm_t\n",
    "\n",
    "# knots, par, W, hess_ran, hess_fix = algorithm_t(ran_var, ran_int, n_fix, sim, tol, model, fix, lengths, y, N, t=None)"
   ]
  },
  {
   "cell_type": "code",
   "execution_count": null,
   "metadata": {},
   "outputs": [],
   "source": [
    "group = np.array([np.nan if np.sum(W[i,:])==0 else np.argmax(W[i,:]) for i in range(N)])\n",
    "\n",
    "df.groupby('CNT').count().reset_index()['CNT']"
   ]
  },
  {
   "cell_type": "code",
   "execution_count": null,
   "metadata": {},
   "outputs": [],
   "source": [
    "def loglikelihood(c, par, group, model):\n",
    "        s = []  # s <- rep(0,N)\n",
    "        # param_fixed = par\n",
    "        # param_random = knots = c\n",
    "\n",
    "        for i in range(N):\n",
    "\n",
    "            if group[i]==group[i]:\n",
    "              a = y[i]\n",
    "\n",
    "              b = c[int(group[i])]\n",
    "              for k in range(n_fix):\n",
    "                b = b + par[k] * fix[k][i]\n",
    "\n",
    "              if model=='B':\n",
    "                s.append(np.sum(a * b - np.log(1 + np.exp(b.astype(float) ) ) )) # HO CAMBIATO QUI: ho messo .astype(float)\n",
    "              elif model=='P':\n",
    "                s.append(np.sum(a * b - np.exp(b.astype(float)) - np.log(np.nan_to_num(factorial(a))) ))\n",
    "\n",
    "        return np.sum(np.array(s))\n",
    "\n",
    "a = loglikelihood(knots, par, group, model)"
   ]
  },
  {
   "cell_type": "code",
   "execution_count": null,
   "metadata": {},
   "outputs": [],
   "source": [
    "file_name = str(ran_var) + '_' + str(ran_int) + '_' + str(n_fix) + '_' + str(variab) + '_' + str(tol) + '_' + str(model) + '_merging' + '.pickle'\n",
    "f = open('output/case_study_results/' + file_name, 'wb')\n",
    "#pickle.dump([par, knots, group, a, W, hess_inv_ran, hess_inv_fix],f)\n",
    "pickle.dump([knots, par, W, hess_ran, hess_fix, group, a],f)\n",
    "f.close()"
   ]
  },
  {
   "cell_type": "code",
   "execution_count": null,
   "metadata": {},
   "outputs": [],
   "source": [
    "CI_length = np.array(st.norm.ppf(1 - tol / 2) * np.sqrt(1 / hess_ran))\n",
    "pd.DataFrame({'lb': knots - CI_length.flatten(), 'ub': knots + CI_length.flatten()})"
   ]
  },
  {
   "cell_type": "code",
   "execution_count": null,
   "metadata": {},
   "outputs": [],
   "source": []
  }
 ],
 "metadata": {
  "kernelspec": {
   "display_name": "Python 3",
   "language": "python",
   "name": "python3"
  },
  "language_info": {
   "codemirror_mode": {
    "name": "ipython",
    "version": 3
   },
   "file_extension": ".py",
   "mimetype": "text/x-python",
   "name": "python",
   "nbconvert_exporter": "python",
   "pygments_lexer": "ipython3",
   "version": "3.9.6"
  },
  "orig_nbformat": 4,
  "vscode": {
   "interpreter": {
    "hash": "31f2aee4e71d21fbe5cf8b01ff0e069b9275f58929596ceb00d14d90e3e16cd6"
   }
  }
 },
 "nbformat": 4,
 "nbformat_minor": 2
}
