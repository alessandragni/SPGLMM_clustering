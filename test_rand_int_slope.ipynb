{
 "cells": [
  {
   "cell_type": "code",
   "execution_count": 41,
   "metadata": {},
   "outputs": [],
   "source": [
    "import pandas as pd\n",
    "from sklearn import preprocessing\n",
    "import numpy as np\n",
    "from collections import defaultdict\n",
    "import os\n",
    "import pickle\n",
    "import scipy.stats as st\n",
    "\n",
    "from itertools import combinations\n",
    "from scipy.stats import chi2\n",
    "\n",
    "from code.algorithm_alpha import algorithm_alpha\n",
    "from code.algorithm_t import algorithm_t\n",
    "from scipy.special import factorial"
   ]
  },
  {
   "cell_type": "code",
   "execution_count": 42,
   "metadata": {},
   "outputs": [],
   "source": [
    "from code.DataGeneration_class import DataGenerationBernoulli\n",
    "DGB = DataGenerationBernoulli(ran_var=True, ran_int=True, n_fix=1, sim=True)\n",
    "\n",
    "DGB.set_parameters()"
   ]
  },
  {
   "cell_type": "code",
   "execution_count": 43,
   "metadata": {},
   "outputs": [],
   "source": [
    "fix = DGB.fix\n",
    "lengths = DGB.lengths\n",
    "y = DGB.y\n",
    "N = DGB.N\n",
    "t = DGB.t\n"
   ]
  },
  {
   "cell_type": "code",
   "execution_count": 44,
   "metadata": {},
   "outputs": [
    {
     "data": {
      "text/plain": [
       "10"
      ]
     },
     "execution_count": 44,
     "metadata": {},
     "output_type": "execute_result"
    }
   ],
   "source": [
    "N"
   ]
  },
  {
   "cell_type": "code",
   "execution_count": 46,
   "metadata": {},
   "outputs": [
    {
     "data": {
      "text/plain": [
       "array([98, 88, 81, 99, 82, 75, 81, 98, 84, 87])"
      ]
     },
     "execution_count": 46,
     "metadata": {},
     "output_type": "execute_result"
    }
   ],
   "source": [
    "lengths"
   ]
  },
  {
   "cell_type": "code",
   "execution_count": 47,
   "metadata": {},
   "outputs": [
    {
     "name": "stdout",
     "output_type": "stream",
     "text": [
      "0\n",
      "1\n",
      "2\n"
     ]
    }
   ],
   "source": [
    "for i in range(3):\n",
    "    print(i)"
   ]
  },
  {
   "cell_type": "code",
   "execution_count": 48,
   "metadata": {},
   "outputs": [
    {
     "data": {
      "text/plain": [
       "10"
      ]
     },
     "execution_count": 48,
     "metadata": {},
     "output_type": "execute_result"
    }
   ],
   "source": [
    "np.size(group)"
   ]
  },
  {
   "cell_type": "code",
   "execution_count": 49,
   "metadata": {},
   "outputs": [
    {
     "data": {
      "text/plain": [
       "array([2])"
      ]
     },
     "execution_count": 49,
     "metadata": {},
     "output_type": "execute_result"
    }
   ],
   "source": [
    "np.where(group==3)[0]"
   ]
  },
  {
   "cell_type": "code",
   "execution_count": 50,
   "metadata": {},
   "outputs": [
    {
     "data": {
      "text/plain": [
       "98"
      ]
     },
     "execution_count": 50,
     "metadata": {},
     "output_type": "execute_result"
    }
   ],
   "source": [
    "len(t[0])"
   ]
  },
  {
   "cell_type": "code",
   "execution_count": 51,
   "metadata": {},
   "outputs": [
    {
     "data": {
      "text/plain": [
       "array([-0.6925 , -1.25931, -0.44388, -0.78518, -0.07402, -1.00986,\n",
       "       -0.63444, -1.54769, -0.04582, -0.43384, -0.13721, -0.06008,\n",
       "        0.27003, -0.61034,  1.84967, -0.24106, -1.16659,  0.31189,\n",
       "       -0.23665, -1.79361, -1.03271, -1.4069 , -0.68033,  0.61595,\n",
       "        0.21921,  0.12528, -0.08035,  0.16584,  0.32398, -0.23588,\n",
       "        1.48254,  0.27939, -0.86792, -0.35917,  1.85143,  1.51245,\n",
       "       -0.23358, -1.64082, -0.17552,  1.62883, -1.40108,  0.10277,\n",
       "        0.46575, -0.23789,  2.64198,  1.94607, -1.3959 , -1.02396,\n",
       "        0.50049,  1.71414,  2.1385 , -0.70849, -0.52952, -0.28142,\n",
       "       -0.80258,  0.29272,  0.62138, -0.23744, -0.62085, -0.25382,\n",
       "       -0.42615,  0.13464, -1.71258, -0.78426, -0.10483, -0.74355,\n",
       "       -0.96371, -0.23504,  0.03733, -0.86752,  1.65434, -0.27834,\n",
       "        1.40992, -1.77726,  1.25921,  0.20901, -0.67899, -0.44731,\n",
       "       -0.30237, -0.70605,  0.25298,  0.27725, -1.3998 ,  1.38106,\n",
       "        0.65934, -0.62671, -0.80136, -0.99403, -0.78792,  1.04845,\n",
       "       -0.70424, -1.56797,  0.38521, -1.0402 ,  0.89157,  1.47364,\n",
       "        1.04696, -0.55233])"
      ]
     },
     "execution_count": 51,
     "metadata": {},
     "output_type": "execute_result"
    }
   ],
   "source": [
    "fix[0][0]"
   ]
  },
  {
   "cell_type": "code",
   "execution_count": 57,
   "metadata": {},
   "outputs": [
    {
     "data": {
      "text/plain": [
       "2"
      ]
     },
     "execution_count": 57,
     "metadata": {},
     "output_type": "execute_result"
    }
   ],
   "source": [
    "x = np.array([[1,2,3], [4,5,6]])\n",
    "x.ndim"
   ]
  },
  {
   "cell_type": "code",
   "execution_count": 58,
   "metadata": {},
   "outputs": [
    {
     "data": {
      "text/plain": [
       "1"
      ]
     },
     "execution_count": 58,
     "metadata": {},
     "output_type": "execute_result"
    }
   ],
   "source": [
    "x = np.array([1,2,3])\n",
    "x.ndim"
   ]
  },
  {
   "cell_type": "code",
   "execution_count": 52,
   "metadata": {},
   "outputs": [
    {
     "name": "stdout",
     "output_type": "stream",
     "text": [
      "Unexpected exception formatting exception. Falling back to standard exception\n"
     ]
    },
    {
     "name": "stderr",
     "output_type": "stream",
     "text": [
      "Traceback (most recent call last):\n",
      "  File \"/Users/alessandragni/Library/Python/3.9/lib/python/site-packages/IPython/core/interactiveshell.py\", line 3508, in run_code\n",
      "    exec(code_obj, self.user_global_ns, self.user_ns)\n",
      "  File \"/var/folders/lg/0lc2g3rx12jf4ztglsz2bgc80000gn/T/ipykernel_66419/2098056283.py\", line 12, in <module>\n",
      "    knots, par, W, hess_ran, hess_fix = algorithm_alpha(ran_var, ran_int, n_fix, sim, tol, model, fix, lengths, y, N, t)\n",
      "  File \"/Users/alessandragni/Documents/DATA/POLITECNICO/PHD/CODE_REPO/SPGLMM_clustering/code/algorithm_alpha.py\", line 220, in algorithm_alpha\n",
      "    n_params = np.size(AC.knots) + (len(AC.knots) - 1) + len(AC.par)\n",
      "  File \"/Users/alessandragni/Documents/DATA/POLITECNICO/PHD/CODE_REPO/SPGLMM_clustering/code/Auxiliary_functions.py\", line 36, in loglikelihood\n",
      "IndexError: index 3 is out of bounds for axis 0 with size 2\n",
      "\n",
      "During handling of the above exception, another exception occurred:\n",
      "\n",
      "Traceback (most recent call last):\n",
      "  File \"/Users/alessandragni/Library/Python/3.9/lib/python/site-packages/IPython/core/interactiveshell.py\", line 2105, in showtraceback\n",
      "    stb = self.InteractiveTB.structured_traceback(\n",
      "  File \"/Users/alessandragni/Library/Python/3.9/lib/python/site-packages/IPython/core/ultratb.py\", line 1428, in structured_traceback\n",
      "    return FormattedTB.structured_traceback(\n",
      "  File \"/Users/alessandragni/Library/Python/3.9/lib/python/site-packages/IPython/core/ultratb.py\", line 1319, in structured_traceback\n",
      "    return VerboseTB.structured_traceback(\n",
      "  File \"/Users/alessandragni/Library/Python/3.9/lib/python/site-packages/IPython/core/ultratb.py\", line 1172, in structured_traceback\n",
      "    formatted_exception = self.format_exception_as_a_whole(etype, evalue, etb, number_of_lines_of_context,\n",
      "  File \"/Users/alessandragni/Library/Python/3.9/lib/python/site-packages/IPython/core/ultratb.py\", line 1087, in format_exception_as_a_whole\n",
      "    frames.append(self.format_record(record))\n",
      "  File \"/Users/alessandragni/Library/Python/3.9/lib/python/site-packages/IPython/core/ultratb.py\", line 969, in format_record\n",
      "    frame_info.lines, Colors, self.has_colors, lvals\n",
      "  File \"/Users/alessandragni/Library/Python/3.9/lib/python/site-packages/IPython/core/ultratb.py\", line 792, in lines\n",
      "    return self._sd.lines\n",
      "  File \"/Users/alessandragni/Library/Python/3.9/lib/python/site-packages/stack_data/utils.py\", line 144, in cached_property_wrapper\n",
      "    value = obj.__dict__[self.func.__name__] = self.func(obj)\n",
      "  File \"/Users/alessandragni/Library/Python/3.9/lib/python/site-packages/stack_data/core.py\", line 734, in lines\n",
      "    pieces = self.included_pieces\n",
      "  File \"/Users/alessandragni/Library/Python/3.9/lib/python/site-packages/stack_data/utils.py\", line 144, in cached_property_wrapper\n",
      "    value = obj.__dict__[self.func.__name__] = self.func(obj)\n",
      "  File \"/Users/alessandragni/Library/Python/3.9/lib/python/site-packages/stack_data/core.py\", line 681, in included_pieces\n",
      "    pos = scope_pieces.index(self.executing_piece)\n",
      "  File \"/Users/alessandragni/Library/Python/3.9/lib/python/site-packages/stack_data/utils.py\", line 144, in cached_property_wrapper\n",
      "    value = obj.__dict__[self.func.__name__] = self.func(obj)\n",
      "  File \"/Users/alessandragni/Library/Python/3.9/lib/python/site-packages/stack_data/core.py\", line 660, in executing_piece\n",
      "    return only(\n",
      "  File \"/Users/alessandragni/Library/Python/3.9/lib/python/site-packages/executing/executing.py\", line 190, in only\n",
      "    raise NotOneValueFound('Expected one value, found 0')\n",
      "executing.executing.NotOneValueFound: Expected one value, found 0\n"
     ]
    }
   ],
   "source": [
    "sim = False\n",
    "\n",
    "ran_var = True\n",
    "ran_int = True\n",
    "n_fix = 1\n",
    "tol = 0.05  # set as 0.01, 0.05 or 0.10 if algorithm_alpha is used; \n",
    "            # otherwise use algorithm_t and tune the tolerance tol\n",
    "model = 'B' # 'B' for Bernoulli and 'P' for Poisson\n",
    "\n",
    "# t = df.groupby('CNT')['VARIABLE_NAME'].apply(np.array).values.tolist()\n",
    "\n",
    "knots, par, W, hess_ran, hess_fix = algorithm_alpha(ran_var, ran_int, n_fix, sim, tol, model, fix, lengths, y, N, t)"
   ]
  },
  {
   "cell_type": "code",
   "execution_count": null,
   "metadata": {},
   "outputs": [],
   "source": []
  },
  {
   "cell_type": "code",
   "execution_count": null,
   "metadata": {},
   "outputs": [],
   "source": []
  }
 ],
 "metadata": {
  "kernelspec": {
   "display_name": "Python 3",
   "language": "python",
   "name": "python3"
  },
  "language_info": {
   "codemirror_mode": {
    "name": "ipython",
    "version": 3
   },
   "file_extension": ".py",
   "mimetype": "text/x-python",
   "name": "python",
   "nbconvert_exporter": "python",
   "pygments_lexer": "ipython3",
   "version": "3.9.6"
  },
  "orig_nbformat": 4
 },
 "nbformat": 4,
 "nbformat_minor": 2
}
