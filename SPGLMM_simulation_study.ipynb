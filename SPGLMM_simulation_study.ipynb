{
 "cells": [
  {
   "cell_type": "code",
   "execution_count": 5,
   "metadata": {},
   "outputs": [],
   "source": [
    "import pandas as pd\n",
    "from sklearn import preprocessing\n",
    "import numpy as np\n",
    "from collections import defaultdict\n",
    "import os\n",
    "import pickle\n",
    "\n",
    "from code.algorithm_alpha import algorithm_alpha\n",
    "from code.algorithm_t import algorithm_t\n",
    "\n",
    "sim = True"
   ]
  },
  {
   "cell_type": "code",
   "execution_count": 6,
   "metadata": {},
   "outputs": [],
   "source": [
    "def compute_order(knots):\n",
    "    if knots.ndim > 1:\n",
    "        return np.flip(np.argsort(knots[:, 0]))\n",
    "    else:\n",
    "        return np.flip(np.argsort(knots))\n",
    "\n",
    "\n",
    "def compute_out_groups(group):  # number of identified clusters\n",
    "    groups_out = len(np.unique(group))\n",
    "    return groups_out\n",
    "\n",
    "\n",
    "algorithm_map = {\n",
    "    'alpha': algorithm_alpha,\n",
    "    't': algorithm_t\n",
    "}\n",
    "\n",
    "\n",
    "def check_algorithm(ran_var, ran_int, n_fix, sim, a_type, tol, model, n):\n",
    "    all_knots = []\n",
    "    all_par = []\n",
    "    all_W = []\n",
    "    all_hess_ran = []\n",
    "    all_hess_fix = []\n",
    "    all_group = []\n",
    "    all_out_groups = []\n",
    "\n",
    "    i = 0\n",
    "    while i < n:\n",
    "        try:\n",
    "            print(i)\n",
    "            knots, par, W, hess_ran, hess_fix = algorithm_map[a_type](ran_var, ran_int, n_fix, sim, tol, model, \n",
    "                                                                      fix=None, lengths=None, y=None, N=None)\n",
    "\n",
    "            x = compute_order(knots)\n",
    "            knots = knots[x]\n",
    "            W = W[:, x]\n",
    "            group = np.array([np.nan if np.sum(W[j, :]) == 0 else np.argmax(W[j, :]) for j in range(10)])\n",
    "            out_groups = compute_out_groups(group)\n",
    "\n",
    "            all_knots.append(knots)\n",
    "            all_par.append(par)\n",
    "            all_W.append(W)\n",
    "            all_hess_ran.append(hess_ran)\n",
    "            all_hess_fix.append(hess_fix)\n",
    "            all_group.append(group)\n",
    "            all_out_groups.append(out_groups)\n",
    "\n",
    "            i = i + 1\n",
    "        except:\n",
    "            print('an error occurred')\n",
    "            pass\n",
    "\n",
    "    # save results\n",
    "    # file_name = str(ran_var) + '_' + str(ran_int) + '_' + str(n_fix) + '_' + a_type + '_' + str(tol) + '_' + model + '_' + str(\n",
    "    #    n) + '.pickle'\n",
    "    # f = open('output/' + file_name, 'wb')\n",
    "    # pickle.dump([all_knots, all_par, all_W, all_hess_ran, all_hess_fix, all_group, all_out_groups], f)\n",
    "    # f.close()\n",
    "\n",
    "    return all_knots, all_par, all_W, all_hess_ran, all_hess_fix, all_group, all_out_groups"
   ]
  },
  {
   "cell_type": "code",
   "execution_count": 10,
   "metadata": {},
   "outputs": [
    {
     "name": "stdout",
     "output_type": "stream",
     "text": [
      "0\n"
     ]
    }
   ],
   "source": [
    "ran_var = True\n",
    "ran_int = True\n",
    "n_fix = 1\n",
    "a_type = 't' # set 't' or 'alpha'\n",
    "tol = 0.5\n",
    "model = 'B'  # set 'B' or 'P'\n",
    "n = 1\n",
    "\n",
    "all_knots, all_par, all_W, all_hess_ran, all_hess_fix, all_group, all_out_groups = \\\n",
    "    check_algorithm(ran_var, ran_int, n_fix, sim, a_type, tol, model, n)\n",
    "\n",
    "# save results\n",
    "file_name = str(ran_var) + '_' + str(ran_int) + '_' + str(n_fix) + '_' + a_type + '_' + str(\n",
    "    tol) + '_' + model + '_' + str(n) + '.pickle'\n",
    "f = open('output/simulation_study_results/' + file_name, 'wb')\n",
    "pickle.dump([all_knots, all_par, all_W, all_hess_ran, all_hess_fix, all_group, all_out_groups], f)\n",
    "f.close()"
   ]
  },
  {
   "cell_type": "code",
   "execution_count": 8,
   "metadata": {},
   "outputs": [
    {
     "data": {
      "text/plain": [
       "[array([[  6.61678,  13.45287],\n",
       "        [  1.73391,   5.96037],\n",
       "        [-11.25573,   0.77371],\n",
       "        [-12.63224,  -1.54759]])]"
      ]
     },
     "execution_count": 8,
     "metadata": {},
     "output_type": "execute_result"
    }
   ],
   "source": [
    "all_knots"
   ]
  },
  {
   "cell_type": "code",
   "execution_count": 9,
   "metadata": {},
   "outputs": [
    {
     "data": {
      "text/plain": [
       "[array([-7.70887])]"
      ]
     },
     "execution_count": 9,
     "metadata": {},
     "output_type": "execute_result"
    }
   ],
   "source": [
    "all_par"
   ]
  },
  {
   "cell_type": "code",
   "execution_count": null,
   "metadata": {},
   "outputs": [],
   "source": []
  }
 ],
 "metadata": {
  "kernelspec": {
   "display_name": "Python 3",
   "language": "python",
   "name": "python3"
  },
  "language_info": {
   "codemirror_mode": {
    "name": "ipython",
    "version": 3
   },
   "file_extension": ".py",
   "mimetype": "text/x-python",
   "name": "python",
   "nbconvert_exporter": "python",
   "pygments_lexer": "ipython3",
   "version": "3.9.6"
  },
  "orig_nbformat": 4,
  "vscode": {
   "interpreter": {
    "hash": "31f2aee4e71d21fbe5cf8b01ff0e069b9275f58929596ceb00d14d90e3e16cd6"
   }
  }
 },
 "nbformat": 4,
 "nbformat_minor": 2
}
